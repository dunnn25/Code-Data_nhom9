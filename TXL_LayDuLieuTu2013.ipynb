{
  "nbformat": 4,
  "nbformat_minor": 0,
  "metadata": {
    "colab": {
      "provenance": []
    },
    "kernelspec": {
      "name": "python3",
      "display_name": "Python 3"
    },
    "language_info": {
      "name": "python"
    }
  },
  "cells": [
    {
      "cell_type": "code",
      "execution_count": 2,
      "metadata": {
        "colab": {
          "base_uri": "https://localhost:8080/"
        },
        "id": "fkaLUQB9ySAk",
        "outputId": "e88e5837-b64a-4a37-d46a-c8d6a90f97a1"
      },
      "outputs": [
        {
          "output_type": "stream",
          "name": "stdout",
          "text": [
            "           date  #covid19  #crypto  #bitcoin  #ukraine  #travel  \\\n",
            "647  2013-01-01         0        0         0         0        3   \n",
            "648  2013-01-02         0        0         0         0        0   \n",
            "649  2013-01-03         0        0         0         0        2   \n",
            "650  2013-01-04         0        0         1         0        1   \n",
            "651  2013-01-05         0        0         0         0        3   \n",
            "...         ...       ...      ...       ...       ...      ...   \n",
            "4381 2023-04-16        36       47        57        56       71   \n",
            "4382 2023-04-17        48       51        49        72       54   \n",
            "4383 2023-04-18        33       42        31        30       87   \n",
            "4384 2023-04-19        18       15        23        14        4   \n",
            "4385 2023-04-20         1        0         1         3        0   \n",
            "\n",
            "      #mondaymotivation  #christmas  #iran  #realestate  \n",
            "647                   0           0      1            0  \n",
            "648                   0           0      1            0  \n",
            "649                   0           0      1            1  \n",
            "650                   0           2      0            0  \n",
            "651                   0           0      0            2  \n",
            "...                 ...         ...    ...          ...  \n",
            "4381                  1           3     23           14  \n",
            "4382                 49           1     28           16  \n",
            "4383                  0           1     11           15  \n",
            "4384                  0           0      6            1  \n",
            "4385                  0           0      0            0  \n",
            "\n",
            "[3739 rows x 10 columns]\n"
          ]
        },
        {
          "output_type": "stream",
          "name": "stderr",
          "text": [
            "/tmp/ipython-input-2-2344062715.py:5: UserWarning: Parsing dates in %d/%m/%Y format when dayfirst=False (the default) was specified. Pass `dayfirst=True` or specify a format to silence this warning.\n",
            "  df['date'] = pd.to_datetime(df['date'])\n"
          ]
        }
      ],
      "source": [
        "\n",
        "\n",
        "import pandas as pd\n",
        "\n",
        "df = pd.read_csv(\"/content/Hashtag_sum_2_10.csv\")\n",
        "\n",
        "df['date'] = pd.to_datetime(df['date'])\n",
        "\n",
        "# Filter out rows where the year is between 2009 and 2012 (inclusive)\n",
        "df_filtered = df[(df['date'].dt.year < 2009) | (df['date'].dt.year > 2012)]\n",
        "\n",
        "df = df_filtered\n",
        "\n",
        "print(df_filtered)\n"
      ]
    },
    {
      "cell_type": "code",
      "source": [
        "df_filtered.to_csv(\"Hashtag_sum_2_10_2013.csv\", index=False)"
      ],
      "metadata": {
        "id": "jDS_ucznytnI"
      },
      "execution_count": 3,
      "outputs": []
    }
  ]
}